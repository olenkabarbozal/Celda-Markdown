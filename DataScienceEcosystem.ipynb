{
 "cells": [
  {
   "cell_type": "markdown",
   "id": "5e750b59-c837-4a40-bbd6-9daf42ea9027",
   "metadata": {},
   "source": [
    "# Data Science Tools and Ecosystem"
   ]
  },
  {
   "cell_type": "markdown",
   "id": "2b443e7b-b332-4591-b88b-a72aee4d6d26",
   "metadata": {},
   "source": [
    "In this notebook, Data Science Tools and Ecosystem are summarized."
   ]
  },
  {
   "cell_type": "markdown",
   "id": "5d1e490b-7589-476f-a000-94d78109b81f",
   "metadata": {},
   "source": [
    "**Objectives:**\n",
    "* List popular languages for Data Science*\n",
    "* List commonly used libraries for Data Science*\n",
    "* Demonstrate simple arithmetic operations in Python*\n",
    "* Convert units of time using code"
   ]
  },
  {
   "cell_type": "markdown",
   "id": "d19e3545-c8e6-4a48-aa95-3e1e43a5978f",
   "metadata": {},
   "source": [
    "Some of the popular languages that Data Scientists use are:\n",
    "1. Python\n",
    "2. R\n",
    "3. MATLAB\n",
    "4. GitHub\n",
    "5. Fortran"
   ]
  },
  {
   "cell_type": "markdown",
   "id": "e2bbff1f-9341-43c3-ae70-681447ed465f",
   "metadata": {},
   "source": [
    "Some of the commonly used libraries used by Data Scientists include:\n",
    "1. Pandas\n",
    "2. numpy\n",
    "3. skitlern\n",
    "4. scipy\n",
    "5. ggplot"
   ]
  },
  {
   "cell_type": "markdown",
   "id": "902df2b1-4067-41cb-88ec-1de68c0686f4",
   "metadata": {},
   "source": [
    "|Data Science Tools|\n",
    "|---|\n",
    "|SQL|\n",
    "|Jupyter|\n",
    "|R|"
   ]
  },
  {
   "cell_type": "markdown",
   "id": "bd1d094a-f0c1-4a57-9c7b-baf585bb93aa",
   "metadata": {},
   "source": [
    "### Below are a few examples of evaluating arithmetic expressions in Python"
   ]
  },
  {
   "cell_type": "code",
   "execution_count": 3,
   "id": "0fab3736-641e-4d1d-9785-5fde3cc8d6b3",
   "metadata": {},
   "outputs": [
    {
     "data": {
      "text/plain": [
       "17"
      ]
     },
     "execution_count": 3,
     "metadata": {},
     "output_type": "execute_result"
    }
   ],
   "source": [
    "#This a simple arithmetic expression to mutiply then add integers\n",
    "\n",
    "(3*4)+5"
   ]
  },
  {
   "cell_type": "code",
   "execution_count": 7,
   "id": "52fd7d00-fb39-47b2-8406-74f8ace8177f",
   "metadata": {},
   "outputs": [
    {
     "data": {
      "text/plain": [
       "3.3333333333333335"
      ]
     },
     "execution_count": 7,
     "metadata": {},
     "output_type": "execute_result"
    }
   ],
   "source": [
    "#This will convert 200 minutes to hours by diving by 60\n",
    "\n",
    "200/60"
   ]
  },
  {
   "cell_type": "markdown",
   "id": "dba6aad0-744f-4d82-8f0a-be587c8298b6",
   "metadata": {},
   "source": []
  }
 ],
 "metadata": {
  "kernelspec": {
   "display_name": "Python (jupyterenv)",
   "language": "python",
   "name": "jupyterenv"
  },
  "language_info": {
   "codemirror_mode": {
    "name": "ipython",
    "version": 3
   },
   "file_extension": ".py",
   "mimetype": "text/x-python",
   "name": "python",
   "nbconvert_exporter": "python",
   "pygments_lexer": "ipython3",
   "version": "3.10.18"
  }
 },
 "nbformat": 4,
 "nbformat_minor": 5
}
